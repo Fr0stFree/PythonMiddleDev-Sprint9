{
 "cells": [
  {
   "cell_type": "markdown",
   "source": [
    "## Сравнительный анализ между PostgreSQL и MongoDB для нужд проекта CinemaUGC"
   ],
   "metadata": {
    "collapsed": false
   },
   "id": "b1507be558b63a98"
  },
  {
   "cell_type": "markdown",
   "source": [
    "### Зависимости для анализа\n",
    "pymongo[srv]==4.6.1\n",
    "psycopg2-binary==2.9.9\n",
    "faker==22.0.0"
   ],
   "metadata": {
    "collapsed": false
   },
   "id": "c5065b9b17ffdcc0"
  },
  {
   "cell_type": "code",
   "outputs": [],
   "source": [
    "from contextlib import contextmanager\n",
    "import time\n",
    "from random import choice\n",
    "\n",
    "import psycopg2\n",
    "from psycopg2.extras import execute_batch\n",
    "import pymongo\n",
    "import faker"
   ],
   "metadata": {
    "collapsed": false,
    "ExecuteTime": {
     "end_time": "2024-02-03T16:09:09.298296800Z",
     "start_time": "2024-02-03T16:09:09.060681200Z"
    }
   },
   "id": "c7fd9cd4cbb41ba7",
   "execution_count": 1
  },
  {
   "cell_type": "markdown",
   "source": [
    "### Подготовка\n",
    "Создадим необходимые функции"
   ],
   "metadata": {
    "collapsed": false
   },
   "id": "c54877ffda2b10c4"
  },
  {
   "cell_type": "code",
   "outputs": [],
   "source": [
    "@contextmanager\n",
    "def postgres_cursor():\n",
    "    connection = psycopg2.connect(password=\"admin\", user=\"admin\", dbname=\"postgres\", host=\"localhost\", port=\"5432\")\n",
    "    cursor = connection.cursor()\n",
    "    try:\n",
    "        yield cursor\n",
    "        connection.commit()\n",
    "    finally:\n",
    "        cursor.close()\n",
    "        connection.close()\n",
    "\n",
    "@contextmanager\n",
    "def mongo_client():\n",
    "    client = pymongo.MongoClient(f\"mongodb://localhost:27017/local\")\n",
    "    try:\n",
    "        yield client.local\n",
    "    finally:\n",
    "        client.close()"
   ],
   "metadata": {
    "collapsed": false,
    "ExecuteTime": {
     "end_time": "2024-02-03T16:09:09.349293900Z",
     "start_time": "2024-02-03T16:09:09.295293500Z"
    }
   },
   "id": "270ce6f54763d5f9",
   "execution_count": 2
  },
  {
   "cell_type": "markdown",
   "source": [
    "Создадим первоначальную схему для таблиц PostgreSQL"
   ],
   "metadata": {
    "collapsed": false
   },
   "id": "e561f600fbb67b71"
  },
  {
   "cell_type": "code",
   "outputs": [],
   "source": [
    "with postgres_cursor() as cursor:\n",
    "    cursor.execute(\"DROP TABLE IF EXISTS likes, reviews, bookmarks\")\n",
    "    cursor.execute(\"\"\"\n",
    "        CREATE TABLE IF NOT EXISTS likes (\n",
    "            movie_id UUID,\n",
    "            user_id UUID,\n",
    "            score SMALLINT\n",
    "        );\n",
    "    \"\"\")\n",
    "    cursor.execute(\"\"\"\n",
    "        CREATE TABLE IF NOT EXISTS reviews (\n",
    "            movie_id UUID,\n",
    "            author_id UUID,\n",
    "            text TEXT,\n",
    "            has_spoiler BOOLEAN,\n",
    "            attitude CHAR(8),\n",
    "            created_at TIMESTAMP\n",
    "        );\n",
    "    \"\"\")\n",
    "    cursor.execute(\"\"\"\n",
    "        CREATE TABLE IF NOT EXISTS bookmarks (\n",
    "            user_id UUID,\n",
    "            movie_id UUID\n",
    "        );\n",
    "    \"\"\")\n",
    "\n",
    "with mongo_client() as client:\n",
    "    client.likes.drop()\n",
    "    client.bookmarks.drop()\n",
    "    client.reviews.drop()\n",
    "    client.create_collection(\"likes\")\n",
    "    client.create_collection(\"bookmarks\")\n",
    "    client.create_collection(\"reviews\")"
   ],
   "metadata": {
    "collapsed": false,
    "ExecuteTime": {
     "end_time": "2024-02-03T15:46:12.852339900Z",
     "start_time": "2024-02-03T15:41:31.962908400Z"
    }
   },
   "id": "4e77bd565e36c0c6",
   "execution_count": 113
  },
  {
   "cell_type": "markdown",
   "source": [
    "Подготовим фейковые данные данные с помощью библиотеки faker"
   ],
   "metadata": {
    "collapsed": false
   },
   "id": "bec22704cb77b0aa"
  },
  {
   "cell_type": "code",
   "outputs": [],
   "source": [
    "fake = faker.Faker()\n",
    "\n",
    "USER_IDS = tuple(fake.uuid4() for _ in range(1000))\n",
    "MOVIE_IDS = tuple(fake.uuid4() for _ in range(10000))\n",
    "LIKE_AMOUNT = 200 * len(MOVIE_IDS)\n",
    "REVIEW_AMOUNT = 5 * len(MOVIE_IDS)\n",
    "BOOKMARK_AMOUNT = 25 * len(USER_IDS)\n",
    "\n",
    "create_like = lambda: (choice(MOVIE_IDS), choice(USER_IDS), choice([0, 10]))\n",
    "create_review = lambda: (choice(MOVIE_IDS), choice(USER_IDS), fake.text(), fake.boolean(), choice([\"positive\", \"neutral\", \"negative\"]), fake.date_time_this_year())\n",
    "create_bookmark = lambda: (choice(USER_IDS), choice(MOVIE_IDS))"
   ],
   "metadata": {
    "collapsed": false,
    "ExecuteTime": {
     "end_time": "2024-02-03T16:10:34.258138800Z",
     "start_time": "2024-02-03T16:10:34.162645600Z"
    }
   },
   "id": "bf2377dde5b24d23",
   "execution_count": 6
  },
  {
   "cell_type": "markdown",
   "source": [
    "Заполним базы данных фейковыми данными"
   ],
   "metadata": {
    "collapsed": false
   },
   "id": "ed308bedb95520b"
  },
  {
   "cell_type": "code",
   "outputs": [],
   "source": [
    "with postgres_cursor() as cursor:\n",
    "    execute_batch(cursor, \"INSERT INTO likes (movie_id, user_id, score) VALUES (%s, %s, %s);\", (create_like() for _ in range(LIKE_AMOUNT)))\n",
    "    execute_batch(cursor, \"INSERT INTO bookmarks (user_id, movie_id) VALUES (%s, %s);\", (create_bookmark() for _ in range(BOOKMARK_AMOUNT)))\n",
    "    execute_batch(cursor, \"INSERT INTO reviews (movie_id, author_id, text, has_spoiler, attitude, created_at) VALUES (%s, %s, %s, %s, %s, %s);\", (create_review() for _ in range(REVIEW_AMOUNT)))\n",
    "    \n",
    "with mongo_client() as db:\n",
    "    db.likes.insert_many([{\"movie_id\": movie_id, \"user_id\": user_id, \"score\": score} for movie_id, user_id, score in (create_like() for _ in range(LIKE_AMOUNT))])\n",
    "    db.bookmarks.insert_many([{\"user_id\": user_id, \"movie_id\": movie_id} for user_id, movie_id in (create_bookmark() for _ in range(BOOKMARK_AMOUNT))])\n",
    "    db.reviews.insert_many([{\"movie_id\": movie_id, \"author_id\": author_id, \"text\": text, \"has_spoiler\": has_spoiler, \"attitude\": attitude, \"created_at\": created_at} for movie_id, author_id, text, has_spoiler, attitude, created_at in (create_review() for _ in range(REVIEW_AMOUNT))])"
   ],
   "metadata": {
    "collapsed": false,
    "is_executing": true,
    "ExecuteTime": {
     "start_time": "2024-02-03T15:53:30.497931400Z"
    }
   },
   "id": "ab3e43d3b46d7a76",
   "execution_count": null
  },
  {
   "cell_type": "markdown",
   "source": [
    "Покроем таблицы индексами"
   ],
   "metadata": {
    "collapsed": false
   },
   "id": "58f491073c9ce56"
  },
  {
   "cell_type": "code",
   "outputs": [],
   "source": [
    "with postgres_cursor() as cursor:\n",
    "    cursor.execute(\"CREATE INDEX IF NOT EXISTS likes_user_id_idx ON likes (user_id);\")\n",
    "    cursor.execute(\"CREATE INDEX IF NOT EXISTS likes_movie_id_idx ON likes (movie_id);\")\n",
    "    cursor.execute(\"CREATE INDEX IF NOT EXISTS reviews_author_id_idx ON reviews (author_id);\")\n",
    "    cursor.execute(\"CREATE INDEX IF NOT EXISTS reviews_movie_id_idx ON reviews (movie_id);\")\n",
    "    cursor.execute(\"CREATE INDEX IF NOT EXISTS bookmarks_user_id_idx ON bookmarks (user_id);\")\n",
    "    \n",
    "with mongo_client() as db:\n",
    "    db.likes.create_index([(\"movie_id\", pymongo.ASCENDING), (\"user_id\", pymongo.ASCENDING)], unique=False)\n",
    "    db.reviews.create_index([(\"movie_id\", pymongo.ASCENDING), (\"author_id\", pymongo.ASCENDING)], unique=False)\n",
    "    db.bookmarks.create_index([(\"user_id\", pymongo.ASCENDING)], unique=False)"
   ],
   "metadata": {
    "collapsed": false,
    "ExecuteTime": {
     "end_time": "2024-02-03T15:47:51.693635600Z",
     "start_time": "2024-02-03T15:47:40.596711Z"
    }
   },
   "id": "ff463e227613870d",
   "execution_count": 116
  },
  {
   "cell_type": "markdown",
   "source": [
    "## Выполнение запросов к БД и сравнение скорости исполнения\n",
    "\n",
    "---\n",
    "\n",
    "### Поиск лайка для выбранного пользователя по выбранному фильму"
   ],
   "metadata": {
    "collapsed": false
   },
   "id": "92753e2dce314bec"
  },
  {
   "cell_type": "code",
   "outputs": [
    {
     "name": "stdout",
     "output_type": "stream",
     "text": [
      "Size of table/amount of documents: 10002100\n",
      "Selected amount of operations: 1000\n",
      "Mean operation time for PostgreSQL: 10.65ms\n",
      "Mean operation time for MongoDB: 7.26ms\n"
     ]
    }
   ],
   "source": [
    "# Get random likes from postgres\n",
    "AMOUNT_OF_OPERATIONS = 1000\n",
    "\n",
    "with postgres_cursor() as cursor:\n",
    "    cursor.execute(f\"SELECT COUNT(*) FROM likes\")\n",
    "    amount = cursor.fetchone()[0]\n",
    "\n",
    "print(f\"Size of table/amount of documents: {amount}\")\n",
    "print(f\"Selected amount of operations: {AMOUNT_OF_OPERATIONS}\")\n",
    "\n",
    "# Get random likes from PostgreSQL\n",
    "with postgres_cursor() as cursor:\n",
    "    cursor.execute(f\"SELECT user_id, movie_id FROM likes ORDER BY random() LIMIT {AMOUNT_OF_OPERATIONS}\")\n",
    "    likes = cursor.fetchall()\n",
    "\n",
    "# PostgreSQL performance:\n",
    "result = []\n",
    "for user_id, movie_id in likes:\n",
    "\n",
    "    start_time = time.monotonic()\n",
    "    with postgres_cursor() as cursor:\n",
    "        cursor.execute(\"SELECT * FROM likes WHERE user_id = %s AND movie_id = %s\", (user_id, movie_id))\n",
    "        like = cursor.fetchone()\n",
    "    end_time = time.monotonic()\n",
    "\n",
    "    result.append((end_time - start_time) * 1000)\n",
    "\n",
    "print(f\"Mean operation time for PostgreSQL: {sum(result) / len(result):.2f}ms\")\n",
    "\n",
    "# Get random likes from MongoDB\n",
    "with mongo_client() as client:\n",
    "    likes = list(client.likes.aggregate([{\"$sample\": {\"size\": AMOUNT_OF_OPERATIONS}}]))\n",
    "\n",
    "# MongoDB performance:\n",
    "result = []\n",
    "for like in likes:\n",
    "    user_id = like[\"user_id\"]\n",
    "    movie_id = like[\"movie_id\"]\n",
    "\n",
    "    start_time = time.monotonic()\n",
    "    with mongo_client() as client:\n",
    "        like = client.likes.find_one({\"user_id\": user_id, \"movie_id\": movie_id})\n",
    "    end_time = time.monotonic()\n",
    "\n",
    "    result.append((end_time - start_time) * 1000)\n",
    "\n",
    "print(f\"Mean operation time for MongoDB: {sum(result) / len(result):.2f}ms\")"
   ],
   "metadata": {
    "collapsed": false,
    "ExecuteTime": {
     "end_time": "2024-02-03T16:12:15.946330300Z",
     "start_time": "2024-02-03T16:11:55.582628800Z"
    }
   },
   "id": "7060bb32a09d0c0c",
   "execution_count": 10
  },
  {
   "cell_type": "markdown",
   "source": [
    "Size of table/amount of documents: 10002100\n",
    "Selected amount of operations: 1000\n",
    "Mean operation time for PostgreSQL: 10.65ms\n",
    "Mean operation time for MongoDB: 7.26ms"
   ],
   "metadata": {
    "collapsed": false
   },
   "id": "568ad136ce01ddbe"
  },
  {
   "cell_type": "markdown",
   "source": [
    "### Поиск всех закладок выбранного пользователя"
   ],
   "metadata": {
    "collapsed": false
   },
   "id": "e11fd9b472eb1913"
  },
  {
   "cell_type": "code",
   "outputs": [
    {
     "name": "stdout",
     "output_type": "stream",
     "text": [
      "Size of table/amount of documents: 125100\n",
      "Selected amount of operations: 1000\n",
      "Mean operation time for PostgreSQL: 8.74ms\n",
      "Mean operation time for MongoDB: 6.19ms\n"
     ]
    }
   ],
   "source": [
    "AMOUNT_OF_OPERATIONS = 1000\n",
    "\n",
    "with postgres_cursor() as cursor:\n",
    "    cursor.execute(f\"SELECT COUNT(*) FROM bookmarks\")\n",
    "    amount = cursor.fetchone()[0]\n",
    "\n",
    "print(f\"Size of table/amount of documents: {amount}\")\n",
    "print(f\"Selected amount of operations: {AMOUNT_OF_OPERATIONS}\")\n",
    "\n",
    "# Get random user_ids\n",
    "with postgres_cursor() as cursor:\n",
    "    cursor.execute(f\"SELECT user_id DISTINCT FROM bookmarks ORDER BY random() LIMIT {AMOUNT_OF_OPERATIONS}\")\n",
    "    user_ids = cursor.fetchall()\n",
    "\n",
    "# PostgreSQL performance:\n",
    "result = []\n",
    "for user_id in user_ids:\n",
    "\n",
    "    start_time = time.monotonic()\n",
    "    with postgres_cursor() as cursor:\n",
    "        cursor.execute(\"SELECT movie_id FROM bookmarks WHERE user_id = %s\", user_id)\n",
    "        cursor.fetchall()\n",
    "    end_time = time.monotonic()\n",
    "\n",
    "    result.append((end_time - start_time) * 1000)\n",
    "\n",
    "print(f\"Mean operation time for PostgreSQL: {sum(result) / len(result):.2f}ms\")\n",
    "\n",
    "# MongoDB performance:\n",
    "result = []\n",
    "for user_id in user_ids:\n",
    "\n",
    "    start_time = time.monotonic()\n",
    "    with mongo_client() as client:\n",
    "        bookmarks = list(client.bookmarks.find({\"user_id\": user_id}))\n",
    "    end_time = time.monotonic()\n",
    "\n",
    "    result.append((end_time - start_time) * 1000)\n",
    "print(f\"Mean operation time for MongoDB: {sum(result) / len(result):.2f}ms\")"
   ],
   "metadata": {
    "collapsed": false,
    "ExecuteTime": {
     "end_time": "2024-02-03T16:09:59.620739600Z",
     "start_time": "2024-02-03T16:09:44.562870400Z"
    }
   },
   "id": "c3c7660bf2edc889",
   "execution_count": 4
  },
  {
   "cell_type": "markdown",
   "source": [
    "Size of table/amount of documents: 125100\n",
    "Selected amount of operations: 1000\n",
    "Mean operation time for PostgreSQL: 8.74ms\n",
    "Mean operation time for MongoDB: 6.19ms"
   ],
   "metadata": {
    "collapsed": false
   },
   "id": "6146b5ffd6659ac7"
  },
  {
   "cell_type": "markdown",
   "source": [
    "### Создание новых записей в таблицах по методу один за другими"
   ],
   "metadata": {
    "collapsed": false
   },
   "id": "945c8b8decab90"
  },
  {
   "cell_type": "code",
   "outputs": [
    {
     "name": "stdout",
     "output_type": "stream",
     "text": [
      "Selected amount of insert operations: 1000\n",
      "PostgreSQL performance: 1462.89ms\n",
      "MongoDB performance: 1068.52ms\n"
     ]
    }
   ],
   "source": [
    "AMOUNT_OF_OPERATIONS = 1000\n",
    "print(f\"Selected amount of insert operations: {AMOUNT_OF_OPERATIONS}\")\n",
    "\n",
    "# Postgres performance\n",
    "start_time = time.monotonic()\n",
    "with postgres_cursor() as cursor:\n",
    "    for _ in range(AMOUNT_OF_OPERATIONS // 10):\n",
    "        cursor.execute(\"INSERT INTO bookmarks (user_id, movie_id) VALUES (%s, %s);\", create_bookmark())\n",
    "    for _ in range(int(AMOUNT_OF_OPERATIONS * 7 // 10)):\n",
    "        cursor.execute(\"INSERT INTO likes (movie_id, user_id, score) VALUES (%s, %s, %s);\", create_like())\n",
    "    for _ in range(int(AMOUNT_OF_OPERATIONS * 2 // 10)):\n",
    "        cursor.execute(\"INSERT INTO reviews (movie_id, author_id, text, has_spoiler, attitude, created_at) VALUES (%s, %s, %s, %s, %s, %s);\", create_review())\n",
    "end_time = time.monotonic()\n",
    "print(f\"PostgreSQL performance: {(end_time - start_time)*1000:.2f}ms\")\n",
    "\n",
    "# MongoDB performance\n",
    "start_time = time.monotonic()\n",
    "with mongo_client() as client:\n",
    "    for _ in range(AMOUNT_OF_OPERATIONS // 10):\n",
    "        client.bookmarks.insert_one(dict(zip([\"user_id\", \"movie_id\"], create_bookmark())))\n",
    "    for _ in range(int(AMOUNT_OF_OPERATIONS * 7 // 10)):\n",
    "        client.likes.insert_one(dict(zip([\"movie_id\", \"user_id\", \"score\"], create_like())))\n",
    "    for _ in range(int(AMOUNT_OF_OPERATIONS * 2 // 10)):\n",
    "        client.reviews.insert_one(dict(zip([\"movie_id\", \"author_id\", \"text\", \"has_spoiler\", \"attitude\", \"created_at\"], create_review())))\n",
    "end_time = time.monotonic()\n",
    "print(f\"MongoDB performance: {(end_time - start_time)*1000:.2f}ms\")"
   ],
   "metadata": {
    "collapsed": false,
    "ExecuteTime": {
     "end_time": "2024-02-03T16:10:54.543525Z",
     "start_time": "2024-02-03T16:10:51.967820800Z"
    }
   },
   "id": "a9ce6a0f3e962874",
   "execution_count": 8
  },
  {
   "cell_type": "markdown",
   "source": [
    "Selected amount of insert operations: 1000\n",
    "PostgreSQL performance: 1462.89ms\n",
    "MongoDB performance: 1068.52ms"
   ],
   "metadata": {
    "collapsed": false
   },
   "id": "faf617d4cbf666b"
  },
  {
   "cell_type": "markdown",
   "source": [
    "### Получение десяти фильмов с самой высокой оценкой"
   ],
   "metadata": {
    "collapsed": false
   },
   "id": "838f03d73fa2104d"
  },
  {
   "cell_type": "code",
   "outputs": [
    {
     "name": "stdout",
     "output_type": "stream",
     "text": [
      "Size of table/amount of documents: 10002100\n",
      "Mean operation time for PostgreSQL: 1127.10ms\n",
      "Mean operation time for MongoDB: 6898.74ms\n"
     ]
    }
   ],
   "source": [
    "with postgres_cursor() as cursor:\n",
    "    cursor.execute(f\"SELECT COUNT(*) FROM likes\")\n",
    "    amount = cursor.fetchone()[0]\n",
    "\n",
    "print(f\"Size of table/amount of documents: {amount}\")\n",
    "\n",
    "# postgres performance:\n",
    "start_time = time.monotonic()\n",
    "with postgres_cursor() as cursor:\n",
    "    cursor.execute(\"SELECT movie_id, AVG(score) as avg_score FROM likes GROUP BY movie_id ORDER BY avg_score DESC LIMIT 10\")\n",
    "    result = cursor.fetchall()\n",
    "end_time = time.monotonic()\n",
    "print(f\"Mean operation time for PostgreSQL: {(end_time - start_time) * 1000:.2f}ms\")\n",
    "\n",
    "\n",
    "# mongo performance:\n",
    "start_time = time.monotonic()\n",
    "with mongo_client() as client:\n",
    "    result = list(client.likes.aggregate([\n",
    "        {\"$group\": {\"_id\": \"$movie_id\", \"avg_score\": {\"$avg\": \"$score\"}}},\n",
    "        {\"$sort\": {\"avg_score\": -1}},\n",
    "        {\"$limit\": 10}\n",
    "    ]))\n",
    "end_time = time.monotonic()\n",
    "print(f\"Mean operation time for MongoDB: {(end_time - start_time) * 1000:.2f}ms\")"
   ],
   "metadata": {
    "collapsed": false,
    "ExecuteTime": {
     "end_time": "2024-02-03T16:11:51.271795600Z",
     "start_time": "2024-02-03T16:11:40.789002700Z"
    }
   },
   "id": "6338a89c859ac2e7",
   "execution_count": 9
  },
  {
   "cell_type": "markdown",
   "source": [
    "Size of table/amount of documents: 10002100\n",
    "Mean operation time for PostgreSQL: 1127.10ms\n",
    "Mean operation time for MongoDB: 6898.74ms"
   ],
   "metadata": {
    "collapsed": false
   },
   "id": "cef88bd63f14419e"
  },
  {
   "cell_type": "markdown",
   "source": [
    "### Получение отзывов на 10 самых популярных фильмов (по количеству лайков/дислайков)"
   ],
   "metadata": {
    "collapsed": false
   },
   "id": "7722f0bf50a61339"
  },
  {
   "cell_type": "code",
   "outputs": [
    {
     "name": "stdout",
     "output_type": "stream",
     "text": [
      "Amount of likes: 10002100\n",
      "Amount of reviews: 250600\n",
      "Mean operation time for PostgreSQL: 942.75ms\n",
      "Mean operation time for MongoDB: 4552.17ms\n"
     ]
    }
   ],
   "source": [
    "with postgres_cursor() as cursor:\n",
    "    cursor.execute(\"SELECT COUNT(*) FROM likes\")\n",
    "    likes_amount = cursor.fetchone()[0]\n",
    "    cursor.execute(\"SELECT COUNT(*) FROM reviews\")\n",
    "    reviews_amount = cursor.fetchone()[0]\n",
    "    \n",
    "print(f\"Amount of likes: {likes_amount}\")\n",
    "print(f\"Amount of reviews: {reviews_amount}\")\n",
    "\n",
    "# postgres performance:\n",
    "start_time = time.monotonic()\n",
    "with postgres_cursor() as cursor:\n",
    "    cursor.execute(\"\"\"\n",
    "        SELECT reviews.author_id, reviews.text\n",
    "        FROM reviews\n",
    "        JOIN (\n",
    "            SELECT movie_id, COUNT(*) as likes_count\n",
    "            FROM likes\n",
    "            GROUP BY movie_id\n",
    "            ORDER BY likes_count DESC\n",
    "            LIMIT 10\n",
    "        ) as top_movies ON top_movies.movie_id = reviews.movie_id\n",
    "        WHERE reviews.has_spoiler = false AND reviews.attitude != 'negative';\n",
    "    \"\"\")\n",
    "    result = cursor.fetchall()\n",
    "end_time = time.monotonic()\n",
    "print(f\"Mean operation time for PostgreSQL: {(end_time - start_time) * 1000:.2f}ms\")\n",
    "\n",
    "# mongo performance:\n",
    "start_time = time.monotonic()\n",
    "with mongo_client() as client:\n",
    "    most_liked_movies = list(client.likes.aggregate([\n",
    "        {\"$group\": {\"_id\": \"$movie_id\", \"likes_count\": {\"$sum\": 1}}},\n",
    "        {\"$sort\": {\"likes_count\": -1}},\n",
    "        {\"$limit\": 10}\n",
    "    ]))\n",
    "    result = list(client.reviews.find({\n",
    "        \"movie_id\": {\"$in\": [movie[\"_id\"] for movie in most_liked_movies]},\n",
    "        \"has_spoiler\": False,\n",
    "        \"attitude\": {\"$ne\": \"negative\"}\n",
    "    }, {\"author_id\": 1, \"text\": 1}))\n",
    "end_time = time.monotonic()\n",
    "print(f\"Mean operation time for MongoDB: {(end_time - start_time) * 1000:.2f}ms\")"
   ],
   "metadata": {
    "collapsed": false,
    "ExecuteTime": {
     "end_time": "2024-02-03T16:13:39.253241Z",
     "start_time": "2024-02-03T16:13:31.887364300Z"
    }
   },
   "id": "582940873d93a2",
   "execution_count": 11
  },
  {
   "cell_type": "markdown",
   "source": [
    "Amount of likes: 10002100\n",
    "Amount of reviews: 250600\n",
    "Mean operation time for PostgreSQL: 942.75ms\n",
    "Mean operation time for MongoDB: 4552.17ms"
   ],
   "metadata": {
    "collapsed": false
   },
   "id": "29fa68e742a29504"
  },
  {
   "cell_type": "markdown",
   "source": [
    "Итоги:\n",
    "1. Поиск лайка для выбранного пользователя по выбранному фильму\n",
    "- PostgreSQL: 10.65ms\n",
    "- MongoDB: 7.26ms\n",
    "\n",
    "2. Поиск всех закладок выбранного пользователя\n",
    "- PostgreSQL: 8.59ms\n",
    "- MongoDB: 6.38ms\n",
    "\n",
    "3. Создание тысячи новых записей по методу один за другими без разрыва соединения\n",
    "- PostgreSQL: 1462.89ms\n",
    "- MongoDB: 1068.52ms\n",
    "\n",
    "4. Получение десяти фильмов с самой высокой оценкой\n",
    "- PostgreSQL: 1127.10ms\n",
    "- MongoDB: 6898.74ms\n",
    "\n",
    "5. Получение отзывов на 10 самых популярных фильмов (по количеству лайков/дислайков)\n",
    "- PostgreSQL: 942.75ms\n",
    "- MongoDB: 4552.17ms"
   ],
   "metadata": {
    "collapsed": false
   },
   "id": "572de2031cf9cb7f"
  }
 ],
 "metadata": {
  "kernelspec": {
   "display_name": "Python 3",
   "language": "python",
   "name": "python3"
  },
  "language_info": {
   "codemirror_mode": {
    "name": "ipython",
    "version": 2
   },
   "file_extension": ".py",
   "mimetype": "text/x-python",
   "name": "python",
   "nbconvert_exporter": "python",
   "pygments_lexer": "ipython2",
   "version": "2.7.6"
  }
 },
 "nbformat": 4,
 "nbformat_minor": 5
}
